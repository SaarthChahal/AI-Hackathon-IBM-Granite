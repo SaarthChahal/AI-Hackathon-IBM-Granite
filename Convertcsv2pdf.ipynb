{
 "cells": [
  {
   "cell_type": "code",
   "execution_count": 4,
   "metadata": {},
   "outputs": [
    {
     "name": "stdout",
     "output_type": "stream",
     "text": [
      "(1000, 55)\n",
      "(1000, 55)\n"
     ]
    },
    {
     "name": "stderr",
     "output_type": "stream",
     "text": [
      "C:\\Users\\WEHRFENSTEIN\\AppData\\Local\\Temp\\ipykernel_22248\\1305821065.py:14: FutureWarning: Setting an item of incompatible dtype is deprecated and will raise an error in a future version of pandas. Value 'Unavailable' has dtype incompatible with float64, please explicitly cast to a compatible dtype first.\n",
      "  data.fillna('Unavailable', inplace=True)\n"
     ]
    },
    {
     "name": "stdout",
     "output_type": "stream",
     "text": [
      "PDF successfully created at C:\\Users\\WEHRFENSTEIN\\Documents\\Output\\amazon-products.pdf\n"
     ]
    }
   ],
   "source": [
    "import numpy as np\n",
    "import pandas as pd \n",
    "# pip install pdfkit \n",
    "import pdfkit  \n",
    "import os \n",
    "\n",
    "# read the datafile using panda library.  \n",
    "data = pd.read_csv(r\"C:\\Users\\WEHRFENSTEIN\\Documents\\Input\\amazon-products.csv\") \n",
    "\n",
    "#EDA .   Determine number of row , Column\n",
    "print(data.shape) \n",
    "\n",
    "# Replace null or NaN values with 'Unavailable'\n",
    "data.fillna('Unavailable', inplace=True)\n",
    "print(data.shape)  \n",
    "\n",
    "# Convert DataFrame to HTML\n",
    "html_content = data.to_html(index=False) \n",
    "\n",
    "# Define output PDF file path\n",
    "output_file_path = r\"C:\\Users\\WEHRFENSTEIN\\Documents\\Output\\amazon-products.pdf\"\n",
    "\n",
    "# down wkhtmltopdf from https://wkhtmltopdf.org/downloads.html and Set wkhtmltopdf path\n",
    "path_to_wkhtmltopdf = r\"C:\\Program Files\\wkhtmltopdf\\bin\\wkhtmltopdf.exe\"  # Update path if needed\n",
    "config = pdfkit.configuration(wkhtmltopdf=path_to_wkhtmltopdf)\n",
    "\n",
    "\n",
    "  # Convert HTML to PDF using pdfkit\n",
    "try:\n",
    "        pdfkit.from_string(html_content, output_file_path,configuration=config)\n",
    "        print(f\"PDF successfully created at {output_file_path}\")\n",
    "except Exception as e:\n",
    "        print(f\"Error generating PDF: {e}\")\n",
    "\n",
    "\n",
    "\n"
   ]
  }
 ],
 "metadata": {
  "kernelspec": {
   "display_name": "Python 3",
   "language": "python",
   "name": "python3"
  },
  "language_info": {
   "codemirror_mode": {
    "name": "ipython",
    "version": 3
   },
   "file_extension": ".py",
   "mimetype": "text/x-python",
   "name": "python",
   "nbconvert_exporter": "python",
   "pygments_lexer": "ipython3",
   "version": "3.10.11"
  }
 },
 "nbformat": 4,
 "nbformat_minor": 2
}
